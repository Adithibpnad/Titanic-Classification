{
  "nbformat": 4,
  "nbformat_minor": 0,
  "metadata": {
    "colab": {
      "provenance": []
    },
    "kernelspec": {
      "name": "python3",
      "display_name": "Python 3"
    },
    "language_info": {
      "name": "python"
    }
  },
  "cells": [
    {
      "cell_type": "code",
      "execution_count": 1,
      "metadata": {
        "id": "OspU4YItM6Um"
      },
      "outputs": [],
      "source": [
        "# Importing Libraries\n",
        "import numpy as np\n",
        "import pandas as pd\n",
        "import seaborn as sns\n",
        "import matplotlib.pyplot as plt\n",
        "\n",
        "import warnings\n",
        "warnings.filterwarnings('ignore')"
      ]
    },
    {
      "cell_type": "code",
      "source": [
        "import pandas as pd\n",
        "import io\n",
        "\n",
        "# Assuming you uploaded 'Titanic-Dataset.csv'\n",
        "file_name = list(uploaded.keys())[0]\n",
        "\n",
        "# Read the uploaded CSV file into a DataFrame\n",
        "titanic = pd.read_csv(io.StringIO(uploaded[file_name].decode('utf-8')))\n",
        "\n",
        "# Display the first few rows of the DataFrame\n",
        "titanic.head()\n"
      ],
      "metadata": {
        "id": "fCPWY5tTPM8P"
      },
      "execution_count": null,
      "outputs": []
    },
    {
      "cell_type": "code",
      "source": [
        "from google.colab import files\n",
        "\n",
        "uploaded = files.upload()\n"
      ],
      "metadata": {
        "id": "5BGk55c6O6Ns"
      },
      "execution_count": null,
      "outputs": []
    },
    {
      "cell_type": "code",
      "source": [
        "import os\n",
        "\n",
        "file_path = r'C:\\Users\\HP\\Desktop\\Titanic-Dataset.csv'\n",
        "\n",
        "if os.path.exists(file_path):\n",
        "    print(\"File exists.\")\n",
        "else:\n",
        "    print(\"File does not exist.\")\n"
      ],
      "metadata": {
        "id": "ZQhwpkmANyE4"
      },
      "execution_count": null,
      "outputs": []
    },
    {
      "cell_type": "code",
      "source": [
        "import os\n",
        "\n",
        "print(\"Current Working Directory:\", os.getcwd())\n"
      ],
      "metadata": {
        "colab": {
          "base_uri": "https://localhost:8080/"
        },
        "id": "sWkGU7EBN2k6",
        "outputId": "7542e608-1424-4a3d-facf-7aef9c7c04fb"
      },
      "execution_count": 5,
      "outputs": [
        {
          "output_type": "stream",
          "name": "stdout",
          "text": [
            "Current Working Directory: /content\n"
          ]
        }
      ]
    },
    {
      "cell_type": "code",
      "source": [
        "# Reading first 5 rows\n",
        "titanic.head()"
      ],
      "metadata": {
        "id": "xyfX48jfPft4"
      },
      "execution_count": null,
      "outputs": []
    },
    {
      "cell_type": "code",
      "source": [
        "# Showing no. of rows and columns of dataset\n",
        "titanic.shape"
      ],
      "metadata": {
        "colab": {
          "base_uri": "https://localhost:8080/"
        },
        "id": "mgwzaBNlPlZ7",
        "outputId": "4a2f7acc-da01-4cd3-e738-1c0af240030a"
      },
      "execution_count": 12,
      "outputs": [
        {
          "output_type": "execute_result",
          "data": {
            "text/plain": [
              "(891, 12)"
            ]
          },
          "metadata": {},
          "execution_count": 12
        }
      ]
    },
    {
      "cell_type": "code",
      "source": [
        "# checking for columns\n",
        "titanic.columns"
      ],
      "metadata": {
        "id": "bwdlBliFPpQk"
      },
      "execution_count": null,
      "outputs": []
    },
    {
      "cell_type": "code",
      "source": [
        "# Checking for data types\n",
        "titanic.dtypes"
      ],
      "metadata": {
        "id": "5ZJ1gyOsPswn"
      },
      "execution_count": null,
      "outputs": []
    },
    {
      "cell_type": "code",
      "source": [
        "# checking for duplicated values\n",
        "titanic.duplicated().sum()"
      ],
      "metadata": {
        "colab": {
          "base_uri": "https://localhost:8080/"
        },
        "id": "Q5_VYKwNPvbX",
        "outputId": "f9b9c871-3860-4703-92a1-e98d8132e366"
      },
      "execution_count": 15,
      "outputs": [
        {
          "output_type": "execute_result",
          "data": {
            "text/plain": [
              "0"
            ]
          },
          "metadata": {},
          "execution_count": 15
        }
      ]
    },
    {
      "cell_type": "code",
      "source": [
        "# checking for null values\n",
        "nv = titanic.isna().sum().sort_values(ascending=False)\n",
        "nv = nv[nv>0]\n",
        "nv"
      ],
      "metadata": {
        "id": "mdlSCxztPy7o"
      },
      "execution_count": null,
      "outputs": []
    },
    {
      "cell_type": "code",
      "source": [
        "# Cheecking what percentage column contain missing values\n",
        "titanic.isnull().sum().sort_values(ascending=False)*100/len(titanic)"
      ],
      "metadata": {
        "id": "t9ierId7P10F"
      },
      "execution_count": null,
      "outputs": []
    },
    {
      "cell_type": "code",
      "source": [
        "# Filling Null Values in Age column with mean values of age column\n",
        "titanic['Age'].fillna(titanic['Age'].mean(),inplace=True)\n",
        "\n",
        "# filling null values in Embarked Column with mode values of embarked column\n",
        "titanic['Embarked'].fillna(titanic['Embarked'].mode()[0],inplace=True)"
      ],
      "metadata": {
        "id": "Zeeo9D6zP4hy"
      },
      "execution_count": 18,
      "outputs": []
    },
    {
      "cell_type": "code",
      "source": [
        "# checking for null values\n",
        "titanic.isna().sum()"
      ],
      "metadata": {
        "id": "vly0pErYP7IP"
      },
      "execution_count": null,
      "outputs": []
    },
    {
      "cell_type": "code",
      "source": [
        "# Finding no. of unique values in each column of dataset\n",
        "titanic[['PassengerId', 'Survived', 'Pclass', 'Name', 'Sex', 'Age', 'SibSp',\n",
        "       'Parch', 'Ticket', 'Fare', 'Embarked']].nunique().sort_values()"
      ],
      "metadata": {
        "id": "XX0nl21dP9lg"
      },
      "execution_count": null,
      "outputs": []
    },
    {
      "cell_type": "code",
      "source": [
        "titanic['Survived'].unique()"
      ],
      "metadata": {
        "id": "RmTC6ctzQAee"
      },
      "execution_count": null,
      "outputs": []
    },
    {
      "cell_type": "code",
      "source": [
        "titanic['Sex'].unique()"
      ],
      "metadata": {
        "id": "_3i4vuQZQEG9"
      },
      "execution_count": null,
      "outputs": []
    },
    {
      "cell_type": "code",
      "source": [
        "titanic['Pclass'].unique()"
      ],
      "metadata": {
        "id": "BfsO2QwEQFw2"
      },
      "execution_count": null,
      "outputs": []
    },
    {
      "cell_type": "code",
      "source": [
        "titanic.drop(columns=['PassengerId','Name','Ticket'],axis=1,inplace=True)\n",
        "titanic.columns"
      ],
      "metadata": {
        "id": "ElacT-cnQIql"
      },
      "execution_count": null,
      "outputs": []
    },
    {
      "cell_type": "code",
      "source": [
        "# Showing inforamation about the dataset\n",
        "titanic.info()"
      ],
      "metadata": {
        "id": "TLkChPExQKpT"
      },
      "execution_count": null,
      "outputs": []
    },
    {
      "cell_type": "code",
      "source": [
        "# showing info. about numerical columns\n",
        "titanic.describe()"
      ],
      "metadata": {
        "id": "Cdmj5weuQODf"
      },
      "execution_count": null,
      "outputs": []
    },
    {
      "cell_type": "code",
      "source": [
        "d1 = titanic['Sex'].value_counts()\n",
        "d1"
      ],
      "metadata": {
        "id": "KIASu5DVQQgf"
      },
      "execution_count": null,
      "outputs": []
    },
    {
      "cell_type": "code",
      "source": [
        "# Plotting Count plot for sex column\n",
        "sns.countplot(x=titanic['Sex'])\n",
        "plt.show()"
      ],
      "metadata": {
        "id": "MdQB5CG_QTVo"
      },
      "execution_count": null,
      "outputs": []
    },
    {
      "cell_type": "code",
      "source": [
        "# Plotting Percantage Distribution of Sex Column\n",
        "plt.figure(figsize=(5,5))\n",
        "plt.pie(d1.values,labels=d1.index,autopct='%.2f%%')\n",
        "plt.legend()\n",
        "plt.show()\n"
      ],
      "metadata": {
        "id": "Aj0mfI5pQVxP"
      },
      "execution_count": null,
      "outputs": []
    },
    {
      "cell_type": "code",
      "source": [
        "# Showing Distribution of Sex Column Survived Wise\n",
        "sns.countplot(x=titanic['Sex'],hue=titanic['Survived']) # In Sex (0 represents female and 1 represents male)\n",
        "plt.show()"
      ],
      "metadata": {
        "id": "LZQW_EY7QXq7"
      },
      "execution_count": null,
      "outputs": []
    },
    {
      "cell_type": "code",
      "source": [
        "# Showing Distribution of Embarked Sex wise\n",
        "sns.countplot(x=titanic['Embarked'],hue=titanic['Sex'])\n",
        "plt.show()"
      ],
      "metadata": {
        "id": "_SOmnnEAQayM"
      },
      "execution_count": null,
      "outputs": []
    },
    {
      "cell_type": "code",
      "source": [
        "# Plotting CountPlot for Pclass Column\n",
        "sns.countplot(x=titanic['Pclass'])\n",
        "plt.show()"
      ],
      "metadata": {
        "id": "1LM6jgecQcpq"
      },
      "execution_count": null,
      "outputs": []
    },
    {
      "cell_type": "code",
      "source": [
        "# Age Distribution\n",
        "sns.kdeplot(x=titanic['Age'])\n",
        "plt.show()"
      ],
      "metadata": {
        "id": "z4lMeDhdQe0m"
      },
      "execution_count": null,
      "outputs": []
    },
    {
      "cell_type": "code",
      "source": [
        "# Plotting CountPlot for Survived Column\n",
        "print(titanic['Survived'].value_counts())\n",
        "sns.countplot(x=titanic['Survived'])\n",
        "plt.show()"
      ],
      "metadata": {
        "id": "-E7YzyNjQiBW"
      },
      "execution_count": null,
      "outputs": []
    },
    {
      "cell_type": "code",
      "source": [
        "# Showinf Distribution of Age Survived Wise\n",
        "sns.kdeplot(x=titanic['Age'],hue=titanic['Survived'])\n",
        "plt.show()"
      ],
      "metadata": {
        "id": "FwF_R9YPQlQC"
      },
      "execution_count": null,
      "outputs": []
    },
    {
      "cell_type": "code",
      "source": [
        "# Plotting Histplot for Dataset\n",
        "titanic.hist(figsize=(10,10))\n",
        "plt.show()"
      ],
      "metadata": {
        "id": "SXwC-GtBQnOP"
      },
      "execution_count": null,
      "outputs": []
    },
    {
      "cell_type": "code",
      "source": [
        "# Plotting Boxplot for dataset\n",
        "# Checking for outliers\n",
        "sns.boxplot(titanic)\n",
        "plt.show()"
      ],
      "metadata": {
        "id": "rMRC8-QSQpSj"
      },
      "execution_count": null,
      "outputs": []
    },
    {
      "cell_type": "code",
      "source": [
        "# showing Correlation\n",
        "titanic.corr()\n"
      ],
      "metadata": {
        "id": "PJXRc8KNQr0d"
      },
      "execution_count": null,
      "outputs": []
    },
    {
      "cell_type": "code",
      "source": [
        "# Showing Correlation Plot\n",
        "sns.heatmap(titanic.corr(),annot=True,cmap='coolwarm')\n",
        "plt.show()\n"
      ],
      "metadata": {
        "id": "-nzqIhAVQtz2"
      },
      "execution_count": null,
      "outputs": []
    },
    {
      "cell_type": "code",
      "source": [
        "# Plotting pairplot\n",
        "sns.pairplot(titanic)\n",
        "plt.show()\n"
      ],
      "metadata": {
        "id": "QHQdEy16QwIn"
      },
      "execution_count": null,
      "outputs": []
    },
    {
      "cell_type": "code",
      "source": [
        "titanic['Survived'].value_counts()"
      ],
      "metadata": {
        "id": "N6QLSx_KQ1wp"
      },
      "execution_count": null,
      "outputs": []
    },
    {
      "cell_type": "code",
      "source": [
        "from sklearn.preprocessing import LabelEncoder\n",
        "# Create an instance of LabelEncoder\n",
        "le = LabelEncoder()\n",
        "\n",
        "# Apply label encoding to each categorical column\n",
        "for column in ['Sex','Embarked']:\n",
        "    titanic[column] = le.fit_transform(titanic[column])\n",
        "\n",
        "titanic.head()\n",
        "\n",
        "# Sex Column\n",
        "\n",
        "# 0 represents female\n",
        "# 1 represents Male\n",
        "\n",
        "# Embarked Column\n",
        "\n",
        "# 0 represents C\n",
        "# 1 represents Q\n",
        "# 2 represents S"
      ],
      "metadata": {
        "id": "mOTz19HSQ4Vg"
      },
      "execution_count": null,
      "outputs": []
    },
    {
      "cell_type": "code",
      "source": [
        "cols = ['Pclass','Sex','Age','SibSp','Parch','Fare','Embarked']\n",
        "x = titanic[cols]\n",
        "y = titanic['Survived']\n",
        "print(x.shape)\n",
        "print(y.shape)\n",
        "print(type(x))  # DataFrame\n",
        "print(type(y))  # Series"
      ],
      "metadata": {
        "id": "-6o_h3cbQK2T"
      },
      "execution_count": null,
      "outputs": []
    },
    {
      "cell_type": "code",
      "source": [
        "x.head()"
      ],
      "metadata": {
        "id": "aSaYck4rRLOK"
      },
      "execution_count": null,
      "outputs": []
    },
    {
      "cell_type": "code",
      "source": [
        "print(891*0.10)"
      ],
      "metadata": {
        "id": "htVl9kEMRNkc"
      },
      "execution_count": null,
      "outputs": []
    },
    {
      "cell_type": "code",
      "source": [
        "print(891*0.10)"
      ],
      "metadata": {
        "id": "uM5DHL8PRR7T"
      },
      "execution_count": null,
      "outputs": []
    },
    {
      "cell_type": "code",
      "source": [
        "x_train,x_test,y_train,y_test = train_test_split(x,y,test_size=0.10,random_state=1)\n",
        "print(x_train.shape)\n",
        "print(x_test.shape)\n",
        "print(y_train.shape)\n",
        "print(y_test.shape)"
      ],
      "metadata": {
        "id": "yHJEuMzhRvJV"
      },
      "execution_count": null,
      "outputs": []
    }
  ]
}